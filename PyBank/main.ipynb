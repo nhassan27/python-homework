{
 "cells": [
  {
   "cell_type": "code",
   "execution_count": 1,
   "id": "35fda243-a787-456b-914c-4eee436ed978",
   "metadata": {},
   "outputs": [],
   "source": [
    "import pandas as pd"
   ]
  },
  {
   "cell_type": "code",
   "execution_count": 2,
   "id": "d1af154c-4652-4e1b-9250-1a4683f2d7cf",
   "metadata": {},
   "outputs": [],
   "source": [
    "df = pd.read_csv(\"/Users/nadeemh/Documents/Personal/UofT/GitHub/python-homework/PyBank/budget_data.csv\")"
   ]
  },
  {
   "cell_type": "code",
   "execution_count": 3,
   "id": "02bf7e77-35e6-4c8d-9b12-5c760701a2bf",
   "metadata": {},
   "outputs": [],
   "source": [
    "total_months = len(df)"
   ]
  },
  {
   "cell_type": "code",
   "execution_count": 4,
   "id": "3d46264a-dbcb-4470-90fa-0190b2ee53a9",
   "metadata": {},
   "outputs": [],
   "source": [
    "total = df['Profit/Losses'].sum()"
   ]
  },
  {
   "cell_type": "code",
   "execution_count": 5,
   "id": "d2be6dd9-5562-4d08-bec7-4ee61576c36d",
   "metadata": {},
   "outputs": [],
   "source": [
    "df['shifted_column'] = df['Profit/Losses'].shift(1)"
   ]
  },
  {
   "cell_type": "code",
   "execution_count": 6,
   "id": "b6d93271-5239-4e35-8e76-f1257efc08cb",
   "metadata": {},
   "outputs": [],
   "source": [
    "df['difference'] = df['Profit/Losses'] - df['shifted_column']"
   ]
  },
  {
   "cell_type": "code",
   "execution_count": 7,
   "id": "aa0cd676-8585-4f91-ab01-e3712cc91ccc",
   "metadata": {},
   "outputs": [],
   "source": [
    "avg = df['difference'].mean()\n",
    "max_val = df['difference'].max()\n",
    "max_date = df.loc[df['difference'] == max_val, 'Date'].iloc[0]\n",
    "# print(max_date)\n",
    "\n",
    "min_val = df['difference'].min()\n",
    "min_date = df.loc[df['difference'] == min_val, 'Date'].iloc[0]\n",
    "# print(min_date)"
   ]
  },
  {
   "cell_type": "code",
   "execution_count": 8,
   "id": "345a8985-e958-4512-9de3-b57fa9c85f92",
   "metadata": {},
   "outputs": [
    {
     "name": "stdout",
     "output_type": "stream",
     "text": [
      "Financial Analysis\n",
      "----------------------------\n",
      "Total Months: 86\n",
      "Total: $38382578\n",
      "Average Change: $-2315.12\n",
      "Greatest Increase in Profits: Feb-2012 ($1926159)\n",
      "Greatest Decrease in Profits: Sep-2013 ($-2196167)\n"
     ]
    }
   ],
   "source": [
    "print (\"Financial Analysis\")\n",
    "print ('----------------------------')\n",
    "print (f\"Total Months: {total_months}\")\n",
    "print (f\"Total: ${total}\")\n",
    "print (f\"Average Change: ${avg:.2f}\")\n",
    "print (f\"Greatest Increase in Profits: {max_date} (${int(max_val)})\")\n",
    "print (f\"Greatest Decrease in Profits: {min_date} (${int(min_val)})\")"
   ]
  },
  {
   "cell_type": "code",
   "execution_count": null,
   "id": "ad57b263-3d13-47dd-ba9e-e9ca05f8249d",
   "metadata": {},
   "outputs": [],
   "source": []
  }
 ],
 "metadata": {
  "kernelspec": {
   "display_name": "Python 3 (ipykernel)",
   "language": "python",
   "name": "python3"
  },
  "language_info": {
   "codemirror_mode": {
    "name": "ipython",
    "version": 3
   },
   "file_extension": ".py",
   "mimetype": "text/x-python",
   "name": "python",
   "nbconvert_exporter": "python",
   "pygments_lexer": "ipython3",
   "version": "3.9.7"
  }
 },
 "nbformat": 4,
 "nbformat_minor": 5
}
